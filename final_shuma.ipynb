{
 "cells": [
  {
   "cell_type": "code",
   "execution_count": 1,
   "metadata": {},
   "outputs": [
    {
     "name": "stderr",
     "output_type": "stream",
     "text": [
      "/Users/shuma/Library/Python/3.9/lib/python/site-packages/urllib3/__init__.py:34: NotOpenSSLWarning: urllib3 v2.0 only supports OpenSSL 1.1.1+, currently the 'ssl' module is compiled with 'LibreSSL 2.8.3'. See: https://github.com/urllib3/urllib3/issues/3020\n",
      "  warnings.warn(\n"
     ]
    }
   ],
   "source": [
    "import requests\n",
    "from bs4 import BeautifulSoup\n",
    "\n",
    "# URLからHTMLを取得し、BeautifulSoupで解析\n",
    "url = 'https://www.asahi.com/news/daily/0101.html'\n",
    "response = requests.get(url)\n",
    "soup = BeautifulSoup(response.text, 'html.parser')"
   ]
  },
  {
   "cell_type": "code",
   "execution_count": 2,
   "metadata": {},
   "outputs": [],
   "source": [
    "import requests\n",
    "from bs4 import BeautifulSoup\n",
    "\n",
    "# 1ページ目から7ページ目までスクレイピング\n",
    "for page in range(101, 108):\n",
    "    url = f'https://www.asahi.com/news/daily/0{page}.html'\n",
    "    response = requests.get(url)\n",
    "    soup = BeautifulSoup(response.text, 'html.parser')\n",
    "    # スクレイピングのロジックをここに追加\n"
   ]
  },
  {
   "cell_type": "code",
   "execution_count": null,
   "metadata": {},
   "outputs": [],
   "source": [
    "import requests\n",
    "from bs4 import BeautifulSoup\n",
    "\n",
    "# ベースURL\n",
    "base_url = 'https://www.asahi.com/news/daily/'\n",
    "\n",
    "# 文字コードをUTF-8に設定\n",
    "encoding = 'utf-8'\n",
    "\n",
    "# 1ページ目から7ページ目までスクレイピング\n",
    "for page in range(101, 108):  # 0101から0107まで\n",
    "    url = f'{base_url}0{page}.html'\n",
    "    \n",
    "    response = requests.get(url)\n",
    "    response.raise_for_status()\n",
    "    response.encoding = encoding\n",
    "\n",
    "    soup = BeautifulSoup(response.text, 'html.parser')\n",
    "    news_list = soup.find('ul', class_='List')\n",
    "\n",
    "    # 最初のニュース項目を取得\n",
    "    first_news_item = news_list.find('li', recursive=False)\n",
    "    title = first_news_item.get_text().strip()\n",
    "    link = first_news_item.find('a')['href']\n",
    "\n",
    "    # 相対リンクを絶対リンクに変換\n",
    "    if link.startswith('/'):\n",
    "        link = 'https://www.asahi.com' + link\n",
    "\n",
    "    print(f'1月{page - 100}日, {title},  {link}\\n')\n"
   ]
  },
  {
   "cell_type": "code",
   "execution_count": 3,
   "metadata": {},
   "outputs": [],
   "source": [
    "import sqlite3\n",
    "import requests\n",
    "from bs4 import BeautifulSoup\n",
    "\n",
    "# データベースに接続（存在しない場合は新規作成）\n",
    "conn = sqlite3.connect('news.db')\n",
    "c = conn.cursor()\n",
    "\n",
    "# ニュースデータを格納するためのテーブルを作成\n",
    "c.execute('''\n",
    "    CREATE TABLE IF NOT EXISTS news (\n",
    "        date TEXT,\n",
    "        title TEXT,\n",
    "        link TEXT\n",
    "    )\n",
    "''')\n",
    "\n",
    "# ベースURL\n",
    "base_url = 'https://www.asahi.com/news/daily/'\n",
    "\n",
    "# 文字コードをUTF-8に設定\n",
    "encoding = 'utf-8'\n",
    "\n",
    "# 1ページ目から7ページ目までスクレイピング\n",
    "for page in range(101, 108):  # 0101から0107まで\n",
    "    url = f'{base_url}0{page}.html'\n",
    "    \n",
    "    response = requests.get(url)\n",
    "    response.raise_for_status()\n",
    "    response.encoding = encoding\n",
    "\n",
    "    soup = BeautifulSoup(response.text, 'html.parser')\n",
    "    news_list = soup.find('ul', class_='List')\n",
    "\n",
    "    # 最初のニュース項目を取得\n",
    "    first_news_item = news_list.find('li', recursive=False)\n",
    "    title = first_news_item.get_text().strip()\n",
    "    link = first_news_item.find('a')['href']\n",
    "\n",
    "    # 相対リンクを絶対リンクに変換\n",
    "    if link.startswith('/'):\n",
    "        link = 'https://www.asahi.com' + link\n",
    "\n",
    "    # データベースにデータを挿入\n",
    "    c.execute('INSERT INTO news (date, title, link) VALUES (?, ?, ?)', \n",
    "              (f'1月{page - 100}日', title, link))\n",
    "\n",
    "    # 挿入したデータをコミット\n",
    "    conn.commit()\n",
    "\n",
    "# データベースのクローズ\n",
    "conn.close()\n"
   ]
  }
 ],
 "metadata": {
  "kernelspec": {
   "display_name": "Python 3",
   "language": "python",
   "name": "python3"
  },
  "language_info": {
   "codemirror_mode": {
    "name": "ipython",
    "version": 3
   },
   "file_extension": ".py",
   "mimetype": "text/x-python",
   "name": "python",
   "nbconvert_exporter": "python",
   "pygments_lexer": "ipython3",
   "version": "3.9.6"
  }
 },
 "nbformat": 4,
 "nbformat_minor": 2
}
