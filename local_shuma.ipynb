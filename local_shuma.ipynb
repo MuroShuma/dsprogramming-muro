{
 "cells": [
  {
   "cell_type": "code",
   "execution_count": 1,
   "metadata": {},
   "outputs": [
    {
     "name": "stdout",
     "output_type": "stream",
     "text": [
      "['1月2日', 'JALの炎上事故救助活動Live中継']\n",
      "['1月3日', '海保機の侵入の許可なしと国交省が通信記録を発表']\n",
      "['1月4日', '菅制官の「海保機の侵入に気づかなかった」という説明']\n",
      "['1月5日', 'カメラが捉えた衝突直前の海保機、一部始終']\n",
      "['1月6日', '避難生活の取材']\n",
      "['1月7日', '岸田首相が池田議員の逮捕を受けコメント']\n"
     ]
    }
   ],
   "source": [
    "import csv\n",
    "\n",
    "# CSVファイルを開く\n",
    "with open('/Users/shuma/Lecture/programing/dsprogramming-muro/nittere_news.csv', mode='r', encoding='utf-8') as file:\n",
    "    csv_reader = csv.reader(file)\n",
    "\n",
    "    # ヘッダー行をスキップする場合\n",
    "    next(csv_reader)\n",
    "\n",
    "    # 行ごとに読み込む\n",
    "    for row in csv_reader:\n",
    "        print(row)\n"
   ]
  },
  {
   "cell_type": "code",
   "execution_count": 14,
   "metadata": {},
   "outputs": [
    {
     "name": "stdout",
     "output_type": "stream",
     "text": [
      "['1月1日', '能登半島地震の警告']\n",
      "['1月2日', 'JALの炎上事故救助活動Live中継']\n",
      "['1月3日', '海保機の侵入の許可なしと国交省が通信記録を発表']\n",
      "['1月4日', '菅制官の「海保機の侵入に気づかなかった」という説明']\n",
      "['1月5日', 'カメラが捉えた衝突直前の海保機、一部始終']\n",
      "['1月6日', '避難生活の取材']\n",
      "['1月7日', '岸田首相が池田議員の逮捕を受けコメント']\n"
     ]
    }
   ],
   "source": [
    "import pandas as pd\n",
    "\n",
    "# CSVファイルを読み込むが、データは読み込まない\n",
    "df = pd.read_csv('/Users/shuma/Lecture/programing/dsprogramming-muro/nittere_news.csv', nrows=0)\n",
    "\n",
    "# ヘッダー行を表示\n",
    "print(df.columns.tolist())\n",
    "\n",
    "# CSVファイルを開く\n",
    "with open('/Users/shuma/Lecture/programing/dsprogramming-muro/nittere_news.csv', mode='r', encoding='utf-8') as file:\n",
    "    csv_reader = csv.reader(file)\n",
    "\n",
    "    # ヘッダー行をスキップする場合\n",
    "    next(csv_reader)\n",
    "\n",
    "    # 行ごとに読み込む\n",
    "    for row in csv_reader:\n",
    "        print(row)"
   ]
  },
  {
   "cell_type": "code",
   "execution_count": 21,
   "metadata": {},
   "outputs": [],
   "source": [
    "import pandas as pd\n",
    "import sqlite3\n",
    "\n",
    "# CSVファイルのパス\n",
    "csv_file = '/Users/shuma/Lecture/programing/dsprogramming-muro/nittere_news.csv'\n",
    "\n",
    "# SQLiteデータベースファイルのパス（存在しない場合は新規作成されます）\n",
    "db_file = 'example.db'\n",
    "\n",
    "# CSVファイルをデータフレームとして読み込む\n",
    "df = pd.read_csv(csv_file)\n",
    "\n",
    "# SQLiteデータベースに接続\n",
    "conn = sqlite3.connect(db_file)\n",
    "\n",
    "# データフレームをデータベースのテーブルに保存（テーブル名は 'news_table' とします）\n",
    "# 既にテーブルが存在する場合は置き換える\n",
    "df.to_sql('news_table', conn, if_exists='replace', index=False)\n",
    "\n",
    "# 接続を閉じる\n",
    "conn.close()\n"
   ]
  },
  {
   "cell_type": "code",
   "execution_count": 22,
   "metadata": {},
   "outputs": [
    {
     "name": "stdout",
     "output_type": "stream",
     "text": [
      "Defaulting to user installation because normal site-packages is not writeable\n",
      "Requirement already satisfied: pandas in /Users/shuma/Library/Python/3.9/lib/python/site-packages (2.0.2)\n",
      "Requirement already satisfied: sqlalchemy in /Users/shuma/Library/Python/3.9/lib/python/site-packages (2.0.25)\n",
      "Requirement already satisfied: scikit-learn in /Users/shuma/Library/Python/3.9/lib/python/site-packages (1.3.1)\n",
      "Requirement already satisfied: python-dateutil>=2.8.2 in /Users/shuma/Library/Python/3.9/lib/python/site-packages (from pandas) (2.8.2)\n",
      "Requirement already satisfied: pytz>=2020.1 in /Users/shuma/Library/Python/3.9/lib/python/site-packages (from pandas) (2023.3)\n",
      "Requirement already satisfied: tzdata>=2022.1 in /Users/shuma/Library/Python/3.9/lib/python/site-packages (from pandas) (2023.3)\n",
      "Requirement already satisfied: numpy>=1.20.3 in /Users/shuma/Library/Python/3.9/lib/python/site-packages (from pandas) (1.25.0)\n",
      "Requirement already satisfied: typing-extensions>=4.6.0 in /Users/shuma/Library/Python/3.9/lib/python/site-packages (from sqlalchemy) (4.6.3)\n",
      "Requirement already satisfied: scipy>=1.5.0 in /Users/shuma/Library/Python/3.9/lib/python/site-packages (from scikit-learn) (1.11.2)\n",
      "Requirement already satisfied: joblib>=1.1.1 in /Users/shuma/Library/Python/3.9/lib/python/site-packages (from scikit-learn) (1.3.2)\n",
      "Requirement already satisfied: threadpoolctl>=2.0.0 in /Users/shuma/Library/Python/3.9/lib/python/site-packages (from scikit-learn) (3.2.0)\n",
      "Requirement already satisfied: six>=1.5 in /Library/Developer/CommandLineTools/Library/Frameworks/Python3.framework/Versions/3.9/lib/python3.9/site-packages (from python-dateutil>=2.8.2->pandas) (1.15.0)\n",
      "\n",
      "\u001b[1m[\u001b[0m\u001b[34;49mnotice\u001b[0m\u001b[1;39;49m]\u001b[0m\u001b[39;49m A new release of pip is available: \u001b[0m\u001b[31;49m23.2.1\u001b[0m\u001b[39;49m -> \u001b[0m\u001b[32;49m23.3.2\u001b[0m\n",
      "\u001b[1m[\u001b[0m\u001b[34;49mnotice\u001b[0m\u001b[1;39;49m]\u001b[0m\u001b[39;49m To update, run: \u001b[0m\u001b[32;49m/Library/Developer/CommandLineTools/usr/bin/python3 -m pip install --upgrade pip\u001b[0m\n",
      "Note: you may need to restart the kernel to use updated packages.\n"
     ]
    }
   ],
   "source": [
    "pip install pandas sqlalchemy scikit-learn"
   ]
  },
  {
   "cell_type": "code",
   "execution_count": null,
   "metadata": {},
   "outputs": [],
   "source": []
  }
 ],
 "metadata": {
  "kernelspec": {
   "display_name": "Python 3",
   "language": "python",
   "name": "python3"
  },
  "language_info": {
   "codemirror_mode": {
    "name": "ipython",
    "version": 3
   },
   "file_extension": ".py",
   "mimetype": "text/x-python",
   "name": "python",
   "nbconvert_exporter": "python",
   "pygments_lexer": "ipython3",
   "version": "3.9.6"
  }
 },
 "nbformat": 4,
 "nbformat_minor": 2
}
