{
 "cells": [
  {
   "cell_type": "code",
   "execution_count": 1,
   "metadata": {},
   "outputs": [
    {
     "name": "stdout",
     "output_type": "stream",
     "text": [
      "['1月2日', 'JALの炎上事故救助活動Live中継']\n",
      "['1月3日', '海保機の侵入の許可なしと国交省が通信記録を発表']\n",
      "['1月4日', '菅制官の「海保機の侵入に気づかなかった」という説明']\n",
      "['1月5日', 'カメラが捉えた衝突直前の海保機、一部始終']\n",
      "['1月6日', '避難生活の取材']\n",
      "['1月7日', '岸田首相が池田議員の逮捕を受けコメント']\n"
     ]
    }
   ],
   "source": [
    "import csv\n",
    "\n",
    "# CSVファイルを開く\n",
    "with open('/Users/shuma/Lecture/programing/dsprogramming-muro/nittere_news.csv', mode='r', encoding='utf-8') as file:\n",
    "    csv_reader = csv.reader(file)\n",
    "\n",
    "    # ヘッダー行をスキップする場合\n",
    "    next(csv_reader)\n",
    "\n",
    "    # 行ごとに読み込む\n",
    "    for row in csv_reader:\n",
    "        print(row)\n"
   ]
  }
 ],
 "metadata": {
  "kernelspec": {
   "display_name": "Python 3",
   "language": "python",
   "name": "python3"
  },
  "language_info": {
   "codemirror_mode": {
    "name": "ipython",
    "version": 3
   },
   "file_extension": ".py",
   "mimetype": "text/x-python",
   "name": "python",
   "nbconvert_exporter": "python",
   "pygments_lexer": "ipython3",
   "version": "3.9.6"
  }
 },
 "nbformat": 4,
 "nbformat_minor": 2
}
