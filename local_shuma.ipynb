{
 "cells": [
  {
   "cell_type": "code",
   "execution_count": 95,
   "metadata": {},
   "outputs": [
    {
     "name": "stdout",
     "output_type": "stream",
     "text": [
      "['day', 'event']\n",
      "['1月1日', '能登半島地震の警告']\n",
      "['1月2日', 'JALの炎上事故救助活動Live中継']\n",
      "['1月3日', '海保機の侵入の許可なしと国交省が通信記録を発表']\n",
      "['1月4日', '菅制官の「海保機の侵入に気づかなかった」という説明']\n",
      "['1月5日', 'カメラが捉えた衝突直前の海保機、一部始終']\n",
      "['1月6日', '避難生活の取材']\n",
      "['1月7日', '岸田首相が池田議員の逮捕を受けコメント']\n"
     ]
    }
   ],
   "source": [
    "import pandas as pd\n",
    "\n",
    "# CSVファイルを読み込むが、データは読み込まない\n",
    "df = pd.read_csv('/Users/shuma/Lecture/programing/dsprogsaisyuu/dsprogramming-muro/2024news.csv', nrows=0)\n",
    "\n",
    "# ヘッダー行を表示\n",
    "print(df.columns.tolist())\n",
    "\n",
    "# CSVファイルを開く\n",
    "with open('/Users/shuma/Lecture/programing/dsprogramming-muro/2024news.csv', mode='r', encoding='utf-8') as file:\n",
    "    csv_reader = csv.reader(file)\n",
    "\n",
    "    # ヘッダー行をスキップする場合\n",
    "    next(csv_reader)\n",
    "\n",
    "    # 行ごとに読み込む\n",
    "    for row in csv_reader:\n",
    "        print(row)"
   ]
  },
  {
   "cell_type": "code",
   "execution_count": 96,
   "metadata": {},
   "outputs": [],
   "source": [
    "import pandas as pd\n",
    "import sqlite3\n",
    "\n",
    "# CSVファイルのパス\n",
    "csv_file = '/Users/shuma/Lecture/programing/dsprogsaisyuu/dsprogramming-muro/2024news.csv'\n",
    "\n",
    "# SQLiteデータベースファイルのパス（存在しない場合は新規作成されます）\n",
    "db_file = 'example.db'\n",
    "\n",
    "# CSVファイルをデータフレームとして読み込む\n",
    "df = pd.read_csv(csv_file)\n",
    "\n",
    "# SQLiteデータベースに接続\n",
    "conn = sqlite3.connect(db_file)\n",
    "\n",
    "# データフレームをデータベースのテーブルに保存（テーブル名は 'news_table' とします）\n",
    "# 既にテーブルが存在する場合は置き換える\n",
    "df.to_sql('news_table', conn, if_exists='replace', index=False)\n",
    "\n",
    "# 接続を閉じる\n",
    "conn.close()\n"
   ]
  },
  {
   "cell_type": "code",
   "execution_count": 97,
   "metadata": {},
   "outputs": [
    {
     "name": "stdout",
     "output_type": "stream",
     "text": [
      "Defaulting to user installation because normal site-packages is not writeable\n",
      "Requirement already satisfied: pandas in /Users/shuma/Library/Python/3.9/lib/python/site-packages (2.0.2)\n",
      "Requirement already satisfied: sqlalchemy in /Users/shuma/Library/Python/3.9/lib/python/site-packages (2.0.25)\n",
      "Requirement already satisfied: scikit-learn in /Users/shuma/Library/Python/3.9/lib/python/site-packages (1.3.1)\n",
      "Requirement already satisfied: python-dateutil>=2.8.2 in /Users/shuma/Library/Python/3.9/lib/python/site-packages (from pandas) (2.8.2)\n",
      "Requirement already satisfied: pytz>=2020.1 in /Users/shuma/Library/Python/3.9/lib/python/site-packages (from pandas) (2023.3)\n",
      "Requirement already satisfied: tzdata>=2022.1 in /Users/shuma/Library/Python/3.9/lib/python/site-packages (from pandas) (2023.3)\n",
      "Requirement already satisfied: numpy>=1.20.3 in /Users/shuma/Library/Python/3.9/lib/python/site-packages (from pandas) (1.25.0)\n",
      "Requirement already satisfied: typing-extensions>=4.6.0 in /Users/shuma/Library/Python/3.9/lib/python/site-packages (from sqlalchemy) (4.6.3)\n",
      "Requirement already satisfied: scipy>=1.5.0 in /Users/shuma/Library/Python/3.9/lib/python/site-packages (from scikit-learn) (1.11.2)\n",
      "Requirement already satisfied: joblib>=1.1.1 in /Users/shuma/Library/Python/3.9/lib/python/site-packages (from scikit-learn) (1.3.2)\n",
      "Requirement already satisfied: threadpoolctl>=2.0.0 in /Users/shuma/Library/Python/3.9/lib/python/site-packages (from scikit-learn) (3.2.0)\n",
      "Requirement already satisfied: six>=1.5 in /Library/Developer/CommandLineTools/Library/Frameworks/Python3.framework/Versions/3.9/lib/python3.9/site-packages (from python-dateutil>=2.8.2->pandas) (1.15.0)\n",
      "\n",
      "\u001b[1m[\u001b[0m\u001b[34;49mnotice\u001b[0m\u001b[1;39;49m]\u001b[0m\u001b[39;49m A new release of pip is available: \u001b[0m\u001b[31;49m23.2.1\u001b[0m\u001b[39;49m -> \u001b[0m\u001b[32;49m23.3.2\u001b[0m\n",
      "\u001b[1m[\u001b[0m\u001b[34;49mnotice\u001b[0m\u001b[1;39;49m]\u001b[0m\u001b[39;49m To update, run: \u001b[0m\u001b[32;49m/Library/Developer/CommandLineTools/usr/bin/python3 -m pip install --upgrade pip\u001b[0m\n",
      "Note: you may need to restart the kernel to use updated packages.\n"
     ]
    }
   ],
   "source": [
    "pip install pandas sqlalchemy scikit-learn"
   ]
  },
  {
   "cell_type": "code",
   "execution_count": 98,
   "metadata": {},
   "outputs": [],
   "source": [
    "from sqlalchemy import create_engine\n",
    "import pandas as pd\n",
    "\n",
    "# データベース接続設定（例：SQLiteの場合）\n",
    "engine1 = create_engine('sqlite:///example.db')\n",
    "engine2 = create_engine('sqlite:///news.db')"
   ]
  },
  {
   "cell_type": "code",
   "execution_count": 99,
   "metadata": {},
   "outputs": [],
   "source": [
    "# データベースからデータを読み込む\n",
    "data1 = pd.read_sql('SELECT * FROM news_table', engine1)\n",
    "data2 = pd.read_sql('SELECT * FROM news', engine2)"
   ]
  },
  {
   "cell_type": "code",
   "execution_count": 100,
   "metadata": {},
   "outputs": [
    {
     "name": "stdout",
     "output_type": "stream",
     "text": [
      "Index(['day', 'event'], dtype='object')\n",
      "Index(['date', 'title', 'link'], dtype='object')\n"
     ]
    }
   ],
   "source": [
    "print(data1.columns)\n",
    "print(data2.columns)"
   ]
  },
  {
   "cell_type": "code",
   "execution_count": 101,
   "metadata": {},
   "outputs": [],
   "source": [
    "data1['event'] = data1['event'].fillna('')\n",
    "data2['title'] = data2['title'].fillna('')\n"
   ]
  },
  {
   "cell_type": "code",
   "execution_count": 102,
   "metadata": {},
   "outputs": [],
   "source": [
    "from sklearn.feature_extraction.text import TfidfVectorizer\n",
    "\n",
    "# TF-IDFベクトル化\n",
    "vectorizer = TfidfVectorizer()\n",
    "\n",
    "# 'event' 列と 'title' 列を使用してベクトル化\n",
    "vectors = vectorizer.fit_transform(data1['event'].tolist() + data2['title'].tolist())\n",
    "\n",
    "# ベクトルをそれぞれのデータセットに分割\n",
    "vectors1 = vectors[:len(data1)]\n",
    "vectors2 = vectors[len(data1):]\n",
    "\n"
   ]
  },
  {
   "cell_type": "code",
   "execution_count": 103,
   "metadata": {},
   "outputs": [],
   "source": [
    "from sklearn.metrics.pairwise import cosine_similarity\n",
    "\n",
    "# データセット間でコサイン類似度を計算\n",
    "similarity_matrix = cosine_similarity(vectors1, vectors2)\n"
   ]
  },
  {
   "cell_type": "code",
   "execution_count": 104,
   "metadata": {},
   "outputs": [
    {
     "name": "stdout",
     "output_type": "stream",
     "text": [
      "[[0. 0. 0. 0. 0. 0. 0.]\n",
      " [0. 0. 0. 0. 0. 0. 0.]\n",
      " [0. 0. 0. 0. 0. 0. 0.]\n",
      " [0. 0. 0. 0. 0. 0. 0.]\n",
      " [0. 0. 0. 0. 0. 0. 0.]\n",
      " [0. 0. 0. 0. 0. 0. 0.]\n",
      " [0. 0. 0. 0. 0. 0. 0.]]\n"
     ]
    }
   ],
   "source": [
    "print(similarity_matrix)\n"
   ]
  },
  {
   "cell_type": "code",
   "execution_count": 105,
   "metadata": {},
   "outputs": [
    {
     "name": "stdout",
     "output_type": "stream",
     "text": [
      "文書 0 (data1) と 文書 0 (data2) の類似度: 0.0\n",
      "文書 3 (data1) と 文書 5 (data2) の類似度: 0.0\n",
      "文書 3 (data1) と 文書 6 (data2) の類似度: 0.0\n",
      "文書 4 (data1) と 文書 0 (data2) の類似度: 0.0\n",
      "文書 4 (data1) と 文書 1 (data2) の類似度: 0.0\n"
     ]
    }
   ],
   "source": [
    "import numpy as np\n",
    "\n",
    "# 類似度が最も高いペアのトップNを表示\n",
    "N = 5\n",
    "top_indices = np.dstack(np.unravel_index(np.argsort(-similarity_matrix.ravel()), similarity_matrix.shape))[0][:N]\n",
    "\n",
    "for i, j in top_indices:\n",
    "    print(f\"文書 {i} (data1) と 文書 {j} (data2) の類似度: {similarity_matrix[i, j]}\")\n"
   ]
  },
  {
   "cell_type": "code",
   "execution_count": 106,
   "metadata": {},
   "outputs": [
    {
     "name": "stdout",
     "output_type": "stream",
     "text": [
      "Defaulting to user installation because normal site-packages is not writeable\n",
      "Collecting janome\n",
      "  Obtaining dependency information for janome from https://files.pythonhosted.org/packages/73/7d/70f4069f4bbf0fca023e82a1fbbade6f5216365d4fe259fee1950723eca5/Janome-0.5.0-py2.py3-none-any.whl.metadata\n",
      "  Downloading Janome-0.5.0-py2.py3-none-any.whl.metadata (2.6 kB)\n",
      "Requirement already satisfied: pandas in /Users/shuma/Library/Python/3.9/lib/python/site-packages (2.0.2)\n",
      "Requirement already satisfied: sqlalchemy in /Users/shuma/Library/Python/3.9/lib/python/site-packages (2.0.25)\n",
      "Requirement already satisfied: scikit-learn in /Users/shuma/Library/Python/3.9/lib/python/site-packages (1.3.1)\n",
      "Requirement already satisfied: python-dateutil>=2.8.2 in /Users/shuma/Library/Python/3.9/lib/python/site-packages (from pandas) (2.8.2)\n",
      "Requirement already satisfied: pytz>=2020.1 in /Users/shuma/Library/Python/3.9/lib/python/site-packages (from pandas) (2023.3)\n",
      "Requirement already satisfied: tzdata>=2022.1 in /Users/shuma/Library/Python/3.9/lib/python/site-packages (from pandas) (2023.3)\n",
      "Requirement already satisfied: numpy>=1.20.3 in /Users/shuma/Library/Python/3.9/lib/python/site-packages (from pandas) (1.25.0)\n",
      "Requirement already satisfied: typing-extensions>=4.6.0 in /Users/shuma/Library/Python/3.9/lib/python/site-packages (from sqlalchemy) (4.6.3)\n",
      "Requirement already satisfied: scipy>=1.5.0 in /Users/shuma/Library/Python/3.9/lib/python/site-packages (from scikit-learn) (1.11.2)\n",
      "Requirement already satisfied: joblib>=1.1.1 in /Users/shuma/Library/Python/3.9/lib/python/site-packages (from scikit-learn) (1.3.2)\n",
      "Requirement already satisfied: threadpoolctl>=2.0.0 in /Users/shuma/Library/Python/3.9/lib/python/site-packages (from scikit-learn) (3.2.0)\n",
      "Requirement already satisfied: six>=1.5 in /Library/Developer/CommandLineTools/Library/Frameworks/Python3.framework/Versions/3.9/lib/python3.9/site-packages (from python-dateutil>=2.8.2->pandas) (1.15.0)\n",
      "Downloading Janome-0.5.0-py2.py3-none-any.whl (19.7 MB)\n",
      "\u001b[2K   \u001b[90m━━━━━━━━━━━━━━━━━━━━━━━━━━━━━━━━━━━━━━━━\u001b[0m \u001b[32m19.7/19.7 MB\u001b[0m \u001b[31m1.8 MB/s\u001b[0m eta \u001b[36m0:00:00\u001b[0m00:01\u001b[0m00:01\u001b[0m\n",
      "\u001b[?25hInstalling collected packages: janome\n",
      "Successfully installed janome-0.5.0\n",
      "\n",
      "\u001b[1m[\u001b[0m\u001b[34;49mnotice\u001b[0m\u001b[1;39;49m]\u001b[0m\u001b[39;49m A new release of pip is available: \u001b[0m\u001b[31;49m23.2.1\u001b[0m\u001b[39;49m -> \u001b[0m\u001b[32;49m23.3.2\u001b[0m\n",
      "\u001b[1m[\u001b[0m\u001b[34;49mnotice\u001b[0m\u001b[1;39;49m]\u001b[0m\u001b[39;49m To update, run: \u001b[0m\u001b[32;49m/Library/Developer/CommandLineTools/usr/bin/python3 -m pip install --upgrade pip\u001b[0m\n",
      "Note: you may need to restart the kernel to use updated packages.\n"
     ]
    }
   ],
   "source": [
    "pip install janome pandas sqlalchemy scikit-learn\n"
   ]
  },
  {
   "cell_type": "code",
   "execution_count": 118,
   "metadata": {},
   "outputs": [],
   "source": [
    "from janome.tokenizer import Tokenizer\n",
    "\n",
    "def tokenize(text):\n",
    "    t = Tokenizer()\n",
    "    return ' '.join([token.surface for token in t.tokenize(text)])\n",
    "\n",
    "# 形態素解析を適用\n",
    "data1['tokenized'] = data1['event'].apply(tokenize)  # 'text_column'はテキストデータを含む列名\n",
    "data2['tokenized'] = data2['title'].apply(tokenize)  # 同上\n",
    "\n"
   ]
  },
  {
   "cell_type": "code",
   "execution_count": 119,
   "metadata": {},
   "outputs": [],
   "source": [
    "from sklearn.feature_extraction.text import TfidfVectorizer\n",
    "\n",
    "# TF-IDFベクトル化\n",
    "vectorizer = TfidfVectorizer()\n",
    "tfidf_matrix1 = vectorizer.fit_transform(data1['tokenized'])\n",
    "tfidf_matrix2 = vectorizer.transform(data2['tokenized'])\n"
   ]
  },
  {
   "cell_type": "code",
   "execution_count": 120,
   "metadata": {},
   "outputs": [],
   "source": [
    "from sklearn.metrics.pairwise import cosine_similarity\n",
    "\n",
    "# コサイン類似度の計算\n",
    "cosine_sim = cosine_similarity(tfidf_matrix1, tfidf_matrix2)\n"
   ]
  },
  {
   "cell_type": "code",
   "execution_count": 121,
   "metadata": {},
   "outputs": [
    {
     "name": "stdout",
     "output_type": "stream",
     "text": [
      "[[0.         0.         0.         0.         0.66666667 0.\n",
      "  0.        ]\n",
      " [0.         0.3380617  0.         0.         0.         0.\n",
      "  0.        ]\n",
      " [0.         0.16675383 0.         0.         0.         0.37287289\n",
      "  0.        ]\n",
      " [0.         0.19625819 0.         0.         0.         0.\n",
      "  0.        ]\n",
      " [0.         0.19063304 0.         0.         0.         0.\n",
      "  0.        ]\n",
      " [0.         0.         0.         0.         0.         0.\n",
      "  0.57735027]\n",
      " [0.         0.         0.         0.37796447 0.21821789 0.\n",
      "  0.        ]]\n"
     ]
    }
   ],
   "source": [
    "# 類似度の表示\n",
    "print(cosine_sim)\n"
   ]
  },
  {
   "cell_type": "code",
   "execution_count": 123,
   "metadata": {},
   "outputs": [],
   "source": [
    "# 仮定: 'date_column' は日付を含む列名です\n",
    "dates1 = data1['day'].tolist()\n",
    "dates2 = data2['date'].tolist()\n"
   ]
  },
  {
   "cell_type": "code",
   "execution_count": 124,
   "metadata": {},
   "outputs": [
    {
     "name": "stdout",
     "output_type": "stream",
     "text": [
      "1月1日 と 1月1日 の類似度: 0.00\n",
      "1月1日 と 1月2日 の類似度: 0.00\n",
      "1月1日 と 1月3日 の類似度: 0.00\n",
      "1月1日 と 1月4日 の類似度: 0.00\n",
      "1月1日 と 1月5日 の類似度: 0.67\n",
      "1月1日 と 1月6日 の類似度: 0.00\n",
      "1月1日 と 1月7日 の類似度: 0.00\n",
      "1月2日 と 1月1日 の類似度: 0.00\n",
      "1月2日 と 1月2日 の類似度: 0.34\n",
      "1月2日 と 1月3日 の類似度: 0.00\n",
      "1月2日 と 1月4日 の類似度: 0.00\n",
      "1月2日 と 1月5日 の類似度: 0.00\n",
      "1月2日 と 1月6日 の類似度: 0.00\n",
      "1月2日 と 1月7日 の類似度: 0.00\n",
      "1月3日 と 1月1日 の類似度: 0.00\n",
      "1月3日 と 1月2日 の類似度: 0.17\n",
      "1月3日 と 1月3日 の類似度: 0.00\n",
      "1月3日 と 1月4日 の類似度: 0.00\n",
      "1月3日 と 1月5日 の類似度: 0.00\n",
      "1月3日 と 1月6日 の類似度: 0.37\n",
      "1月3日 と 1月7日 の類似度: 0.00\n",
      "1月4日 と 1月1日 の類似度: 0.00\n",
      "1月4日 と 1月2日 の類似度: 0.20\n",
      "1月4日 と 1月3日 の類似度: 0.00\n",
      "1月4日 と 1月4日 の類似度: 0.00\n",
      "1月4日 と 1月5日 の類似度: 0.00\n",
      "1月4日 と 1月6日 の類似度: 0.00\n",
      "1月4日 と 1月7日 の類似度: 0.00\n",
      "1月5日 と 1月1日 の類似度: 0.00\n",
      "1月5日 と 1月2日 の類似度: 0.19\n",
      "1月5日 と 1月3日 の類似度: 0.00\n",
      "1月5日 と 1月4日 の類似度: 0.00\n",
      "1月5日 と 1月5日 の類似度: 0.00\n",
      "1月5日 と 1月6日 の類似度: 0.00\n",
      "1月5日 と 1月7日 の類似度: 0.00\n",
      "1月6日 と 1月1日 の類似度: 0.00\n",
      "1月6日 と 1月2日 の類似度: 0.00\n",
      "1月6日 と 1月3日 の類似度: 0.00\n",
      "1月6日 と 1月4日 の類似度: 0.00\n",
      "1月6日 と 1月5日 の類似度: 0.00\n",
      "1月6日 と 1月6日 の類似度: 0.00\n",
      "1月6日 と 1月7日 の類似度: 0.58\n",
      "1月7日 と 1月1日 の類似度: 0.00\n",
      "1月7日 と 1月2日 の類似度: 0.00\n",
      "1月7日 と 1月3日 の類似度: 0.00\n",
      "1月7日 と 1月4日 の類似度: 0.38\n",
      "1月7日 と 1月5日 の類似度: 0.22\n",
      "1月7日 と 1月6日 の類似度: 0.00\n",
      "1月7日 と 1月7日 の類似度: 0.00\n"
     ]
    }
   ],
   "source": [
    "import numpy as np\n",
    "\n",
    "# 類似度スコアと日付情報を組み合わせて表示\n",
    "for i in range(len(dates1)):\n",
    "    for j in range(len(dates2)):\n",
    "        print(f\"{dates1[i]} と {dates2[j]} の類似度: {cosine_sim[i, j]:.2f}\")\n"
   ]
  },
  {
   "cell_type": "code",
   "execution_count": 126,
   "metadata": {},
   "outputs": [
    {
     "name": "stdout",
     "output_type": "stream",
     "text": [
      "1月1日 と 1月5日 の類似度: 0.67\n",
      "1月2日 と 1月2日 の類似度: 0.34\n",
      "1月3日 と 1月2日 の類似度: 0.17\n",
      "1月3日 と 1月6日 の類似度: 0.37\n",
      "1月4日 と 1月2日 の類似度: 0.20\n",
      "1月5日 と 1月2日 の類似度: 0.19\n",
      "1月6日 と 1月7日 の類似度: 0.58\n",
      "1月7日 と 1月4日 の類似度: 0.38\n",
      "1月7日 と 1月5日 の類似度: 0.22\n"
     ]
    }
   ],
   "source": [
    "for i in range(len(dates1)):\n",
    "    for j in range(len(dates2)):\n",
    "        if cosine_sim[i, j] > 0:\n",
    "            print(f\"{dates1[i]} と {dates2[j]} の類似度: {cosine_sim[i, j]:.2f}\")\n"
   ]
  }
 ],
 "metadata": {
  "kernelspec": {
   "display_name": "Python 3",
   "language": "python",
   "name": "python3"
  },
  "language_info": {
   "codemirror_mode": {
    "name": "ipython",
    "version": 3
   },
   "file_extension": ".py",
   "mimetype": "text/x-python",
   "name": "python",
   "nbconvert_exporter": "python",
   "pygments_lexer": "ipython3",
   "version": "3.9.6"
  }
 },
 "nbformat": 4,
 "nbformat_minor": 2
}
